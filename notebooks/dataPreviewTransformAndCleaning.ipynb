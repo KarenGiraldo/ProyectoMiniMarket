{
 "cells": [
  {
   "cell_type": "markdown",
   "id": "f79c0bda-1ea5-4c9d-866e-0aba1445b07d",
   "metadata": {},
   "source": [
    "# Exploración preliminar y transformación de datos"
   ]
  },
  {
   "cell_type": "code",
   "execution_count": 2,
   "id": "c8486951-0321-42b3-8124-8fcc2e16ffe7",
   "metadata": {},
   "outputs": [],
   "source": [
    "# Bibliotecas requeridas\n",
    "import sys\n",
    "sys.path.append('../scr/')\n",
    "\n",
    "import loadAndTransformData as ltd\n",
    "import viewDataFunctions as vdf\n",
    "\n",
    "\n",
    "import pandas as pd\n",
    "import os\n"
   ]
  },
  {
   "cell_type": "code",
   "execution_count": 3,
   "id": "ff8d9d48-f520-44f0-8e35-b2e8c77f6b04",
   "metadata": {},
   "outputs": [
    {
     "name": "stdout",
     "output_type": "stream",
     "text": [
      "Archivo cargado correctamente.\n"
     ]
    }
   ],
   "source": [
    "# Carga de datos\n",
    "data = ltd.cargar_csv('C:/Users/jpmog/Downloads/tu_(1)_2024_08_31.csv')"
   ]
  },
  {
   "cell_type": "code",
   "execution_count": 4,
   "id": "683a010d-5add-43c3-bd3f-81b5510a9cfa",
   "metadata": {},
   "outputs": [
    {
     "data": {
      "text/plain": [
       "(152781, 11)"
      ]
     },
     "execution_count": 4,
     "metadata": {},
     "output_type": "execute_result"
    }
   ],
   "source": [
    "data.shape"
   ]
  },
  {
   "cell_type": "code",
   "execution_count": 5,
   "id": "75d36d6a-954f-49a1-bd8e-20e2e45689c6",
   "metadata": {},
   "outputs": [
    {
     "name": "stdout",
     "output_type": "stream",
     "text": [
      "<class 'pandas.core.frame.DataFrame'>\n",
      "RangeIndex: 152781 entries, 0 to 152780\n",
      "Data columns (total 11 columns):\n",
      " #   Column                Non-Null Count   Dtype  \n",
      "---  ------                --------------   -----  \n",
      " 0   fecha                 152781 non-null  object \n",
      " 1   codigo_factura        152781 non-null  int64  \n",
      " 2   mnt_total_a_pagar     152781 non-null  float64\n",
      " 3   cant_items            152781 non-null  int64  \n",
      " 4   familia               152524 non-null  object \n",
      " 5   categoria             152781 non-null  object \n",
      " 6   subcategoria          152781 non-null  object \n",
      " 7   codigo_producto       152781 non-null  float64\n",
      " 8   cantidad_vendida      152781 non-null  float64\n",
      " 9   venta_bruta_producto  152781 non-null  float64\n",
      " 10  venta_neta_producto   152781 non-null  float64\n",
      "dtypes: float64(5), int64(2), object(4)\n",
      "memory usage: 12.8+ MB\n"
     ]
    }
   ],
   "source": [
    "data.info()"
   ]
  },
  {
   "cell_type": "code",
   "execution_count": 6,
   "id": "f9e47d7f-a173-4d97-b92a-962da1d2b5ad",
   "metadata": {},
   "outputs": [
    {
     "name": "stdout",
     "output_type": "stream",
     "text": [
      "Archivo guardado: ../data/raw/Minimarket_Sales_Data_2024_01.csv\n",
      "Archivo guardado: ../data/raw/Minimarket_Sales_Data_2024_02.csv\n",
      "Archivo guardado: ../data/raw/Minimarket_Sales_Data_2024_03.csv\n"
     ]
    }
   ],
   "source": [
    "ltd.dividir_y_guardar_csv(data, 'fecha', 'mes', '../data/raw/', 'Minimarket_Sales_Data')"
   ]
  },
  {
   "cell_type": "code",
   "execution_count": 11,
   "id": "92bcbd0b-b93c-495f-b026-951f2ae37524",
   "metadata": {},
   "outputs": [],
   "source": [
    "model_data_producto = ltd.pivotear_df(data, 'codigo_factura', 'codigo_producto')\n",
    "model_data_familia = ltd.pivotear_df(data, 'codigo_factura', 'familia')\n",
    "model_data_categoria = ltd.pivotear_df(data, 'codigo_factura', 'categoria')\n",
    "model_data_subcategoria = ltd.pivotear_df(data, 'codigo_factura', 'subcategoria')"
   ]
  },
  {
   "cell_type": "code",
   "execution_count": 12,
   "id": "6a603b5c-e1f6-4023-b0b6-2f3c5dcc8d51",
   "metadata": {},
   "outputs": [
    {
     "name": "stdout",
     "output_type": "stream",
     "text": [
      "(39482, 1089) (39225, 12) (39482, 32) (39482, 186)\n"
     ]
    }
   ],
   "source": [
    "print(model_data_producto.shape, model_data_familia.shape, model_data_categoria.shape, model_data_subcategoria.shape)"
   ]
  },
  {
   "cell_type": "code",
   "execution_count": 13,
   "id": "2ffdb474-bec2-4f51-bfe8-5e3985af2453",
   "metadata": {},
   "outputs": [
    {
     "name": "stdout",
     "output_type": "stream",
     "text": [
      "Archivo guardado exitosamente en: ../data/processed/Minimarket_Sales_Data_Transform_By_Product.csv\n",
      "Archivo guardado exitosamente en: ../data/processed/Minimarket_Sales_Data_Transform_By_Family.csv\n",
      "Archivo guardado exitosamente en: ../data/processed/Minimarket_Sales_Data_Transform_By_Category.csv\n",
      "Archivo guardado exitosamente en: ../data/processed/Minimarket_Sales_Data_Transform_By_Subcategory.csv\n"
     ]
    }
   ],
   "source": [
    "ltd.guardar_csv(model_data_producto, '../data/processed/', 'Minimarket_Sales_Data_Transform_By_Product')\n",
    "ltd.guardar_csv(model_data_familia, '../data/processed/', 'Minimarket_Sales_Data_Transform_By_Family')\n",
    "ltd.guardar_csv(model_data_categoria, '../data/processed/', 'Minimarket_Sales_Data_Transform_By_Category')\n",
    "ltd.guardar_csv(model_data_subcategoria, '../data/processed/', 'Minimarket_Sales_Data_Transform_By_Subcategory')"
   ]
  },
  {
   "cell_type": "code",
   "execution_count": 17,
   "id": "77df493f-0510-4a63-803a-028c86168024",
   "metadata": {},
   "outputs": [
    {
     "data": {
      "text/html": [
       "<div>\n",
       "<style scoped>\n",
       "    .dataframe tbody tr th:only-of-type {\n",
       "        vertical-align: middle;\n",
       "    }\n",
       "\n",
       "    .dataframe tbody tr th {\n",
       "        vertical-align: top;\n",
       "    }\n",
       "\n",
       "    .dataframe thead th {\n",
       "        text-align: right;\n",
       "    }\n",
       "</style>\n",
       "<table border=\"1\" class=\"dataframe\">\n",
       "  <thead>\n",
       "    <tr style=\"text-align: right;\">\n",
       "      <th></th>\n",
       "      <th>fecha</th>\n",
       "      <th>codigo_factura</th>\n",
       "      <th>mnt_total_a_pagar</th>\n",
       "      <th>cant_items</th>\n",
       "      <th>familia</th>\n",
       "      <th>categoria</th>\n",
       "      <th>subcategoria</th>\n",
       "      <th>codigo_producto</th>\n",
       "      <th>cantidad_vendida</th>\n",
       "      <th>venta_bruta_producto</th>\n",
       "      <th>venta_neta_producto</th>\n",
       "    </tr>\n",
       "  </thead>\n",
       "  <tbody>\n",
       "    <tr>\n",
       "      <th>0</th>\n",
       "      <td>2024-03-01</td>\n",
       "      <td>2542191348</td>\n",
       "      <td>103760.0</td>\n",
       "      <td>21</td>\n",
       "      <td>Alimentos Sal</td>\n",
       "      <td>Galletería</td>\n",
       "      <td>Crackers</td>\n",
       "      <td>12000352.0</td>\n",
       "      <td>1.0</td>\n",
       "      <td>4490.0</td>\n",
       "      <td>3773.0</td>\n",
       "    </tr>\n",
       "    <tr>\n",
       "      <th>1</th>\n",
       "      <td>2024-03-01</td>\n",
       "      <td>2542191348</td>\n",
       "      <td>103760.0</td>\n",
       "      <td>21</td>\n",
       "      <td>Aseo</td>\n",
       "      <td>Aseo Hogar</td>\n",
       "      <td>Blanqueador</td>\n",
       "      <td>12000089.0</td>\n",
       "      <td>1.0</td>\n",
       "      <td>2800.0</td>\n",
       "      <td>2353.0</td>\n",
       "    </tr>\n",
       "    <tr>\n",
       "      <th>2</th>\n",
       "      <td>2024-03-01</td>\n",
       "      <td>2542191348</td>\n",
       "      <td>103760.0</td>\n",
       "      <td>21</td>\n",
       "      <td>Aseo</td>\n",
       "      <td>Aseo Hogar</td>\n",
       "      <td>Lavaplatos</td>\n",
       "      <td>12000231.0</td>\n",
       "      <td>3.0</td>\n",
       "      <td>8070.0</td>\n",
       "      <td>6782.0</td>\n",
       "    </tr>\n",
       "    <tr>\n",
       "      <th>3</th>\n",
       "      <td>2024-03-01</td>\n",
       "      <td>2542191348</td>\n",
       "      <td>103760.0</td>\n",
       "      <td>21</td>\n",
       "      <td>Aseo</td>\n",
       "      <td>Hogar</td>\n",
       "      <td>Tissue</td>\n",
       "      <td>12000175.0</td>\n",
       "      <td>1.0</td>\n",
       "      <td>2190.0</td>\n",
       "      <td>1840.0</td>\n",
       "    </tr>\n",
       "    <tr>\n",
       "      <th>4</th>\n",
       "      <td>2024-03-01</td>\n",
       "      <td>2542191348</td>\n",
       "      <td>103760.0</td>\n",
       "      <td>21</td>\n",
       "      <td>Aseo</td>\n",
       "      <td>Hogar</td>\n",
       "      <td>Cuidado Del Aire</td>\n",
       "      <td>12000570.0</td>\n",
       "      <td>1.0</td>\n",
       "      <td>5490.0</td>\n",
       "      <td>4613.0</td>\n",
       "    </tr>\n",
       "    <tr>\n",
       "      <th>...</th>\n",
       "      <td>...</td>\n",
       "      <td>...</td>\n",
       "      <td>...</td>\n",
       "      <td>...</td>\n",
       "      <td>...</td>\n",
       "      <td>...</td>\n",
       "      <td>...</td>\n",
       "      <td>...</td>\n",
       "      <td>...</td>\n",
       "      <td>...</td>\n",
       "      <td>...</td>\n",
       "    </tr>\n",
       "    <tr>\n",
       "      <th>152776</th>\n",
       "      <td>2024-03-01</td>\n",
       "      <td>2542191348</td>\n",
       "      <td>103760.0</td>\n",
       "      <td>21</td>\n",
       "      <td>Aseo</td>\n",
       "      <td>Hogar</td>\n",
       "      <td>Cuidado Del Aire</td>\n",
       "      <td>12003570.0</td>\n",
       "      <td>1.0</td>\n",
       "      <td>5990.0</td>\n",
       "      <td>5034.0</td>\n",
       "    </tr>\n",
       "    <tr>\n",
       "      <th>152777</th>\n",
       "      <td>2024-03-01</td>\n",
       "      <td>2542191348</td>\n",
       "      <td>103760.0</td>\n",
       "      <td>21</td>\n",
       "      <td>Alimentos Sal</td>\n",
       "      <td>Enlatados Y Envasados</td>\n",
       "      <td>Mar</td>\n",
       "      <td>12004370.0</td>\n",
       "      <td>2.0</td>\n",
       "      <td>9900.0</td>\n",
       "      <td>8319.0</td>\n",
       "    </tr>\n",
       "    <tr>\n",
       "      <th>152778</th>\n",
       "      <td>2024-03-01</td>\n",
       "      <td>2527515632</td>\n",
       "      <td>12970.0</td>\n",
       "      <td>3</td>\n",
       "      <td>Aseo</td>\n",
       "      <td>Aseo Personal</td>\n",
       "      <td>Femenina</td>\n",
       "      <td>12002481.0</td>\n",
       "      <td>1.0</td>\n",
       "      <td>8590.0</td>\n",
       "      <td>8590.0</td>\n",
       "    </tr>\n",
       "    <tr>\n",
       "      <th>152779</th>\n",
       "      <td>2024-03-01</td>\n",
       "      <td>2527515632</td>\n",
       "      <td>12970.0</td>\n",
       "      <td>3</td>\n",
       "      <td>Aseo</td>\n",
       "      <td>Aseo Personal</td>\n",
       "      <td>Femenina</td>\n",
       "      <td>12001739.0</td>\n",
       "      <td>1.0</td>\n",
       "      <td>3290.0</td>\n",
       "      <td>3290.0</td>\n",
       "    </tr>\n",
       "    <tr>\n",
       "      <th>152780</th>\n",
       "      <td>2024-03-01</td>\n",
       "      <td>2527515632</td>\n",
       "      <td>12970.0</td>\n",
       "      <td>3</td>\n",
       "      <td>Alimentos Dulces</td>\n",
       "      <td>Dulce</td>\n",
       "      <td>Otros</td>\n",
       "      <td>12002095.0</td>\n",
       "      <td>1.0</td>\n",
       "      <td>1090.0</td>\n",
       "      <td>916.0</td>\n",
       "    </tr>\n",
       "  </tbody>\n",
       "</table>\n",
       "<p>152781 rows × 11 columns</p>\n",
       "</div>"
      ],
      "text/plain": [
       "            fecha  codigo_factura  mnt_total_a_pagar  cant_items  \\\n",
       "0      2024-03-01      2542191348           103760.0          21   \n",
       "1      2024-03-01      2542191348           103760.0          21   \n",
       "2      2024-03-01      2542191348           103760.0          21   \n",
       "3      2024-03-01      2542191348           103760.0          21   \n",
       "4      2024-03-01      2542191348           103760.0          21   \n",
       "...           ...             ...                ...         ...   \n",
       "152776 2024-03-01      2542191348           103760.0          21   \n",
       "152777 2024-03-01      2542191348           103760.0          21   \n",
       "152778 2024-03-01      2527515632            12970.0           3   \n",
       "152779 2024-03-01      2527515632            12970.0           3   \n",
       "152780 2024-03-01      2527515632            12970.0           3   \n",
       "\n",
       "                 familia              categoria      subcategoria  \\\n",
       "0          Alimentos Sal             Galletería          Crackers   \n",
       "1                   Aseo             Aseo Hogar       Blanqueador   \n",
       "2                   Aseo             Aseo Hogar        Lavaplatos   \n",
       "3                   Aseo                  Hogar            Tissue   \n",
       "4                   Aseo                  Hogar  Cuidado Del Aire   \n",
       "...                  ...                    ...               ...   \n",
       "152776              Aseo                  Hogar  Cuidado Del Aire   \n",
       "152777     Alimentos Sal  Enlatados Y Envasados               Mar   \n",
       "152778              Aseo          Aseo Personal          Femenina   \n",
       "152779              Aseo          Aseo Personal          Femenina   \n",
       "152780  Alimentos Dulces                  Dulce             Otros   \n",
       "\n",
       "        codigo_producto  cantidad_vendida  venta_bruta_producto  \\\n",
       "0            12000352.0               1.0                4490.0   \n",
       "1            12000089.0               1.0                2800.0   \n",
       "2            12000231.0               3.0                8070.0   \n",
       "3            12000175.0               1.0                2190.0   \n",
       "4            12000570.0               1.0                5490.0   \n",
       "...                 ...               ...                   ...   \n",
       "152776       12003570.0               1.0                5990.0   \n",
       "152777       12004370.0               2.0                9900.0   \n",
       "152778       12002481.0               1.0                8590.0   \n",
       "152779       12001739.0               1.0                3290.0   \n",
       "152780       12002095.0               1.0                1090.0   \n",
       "\n",
       "        venta_neta_producto  \n",
       "0                    3773.0  \n",
       "1                    2353.0  \n",
       "2                    6782.0  \n",
       "3                    1840.0  \n",
       "4                    4613.0  \n",
       "...                     ...  \n",
       "152776               5034.0  \n",
       "152777               8319.0  \n",
       "152778               8590.0  \n",
       "152779               3290.0  \n",
       "152780                916.0  \n",
       "\n",
       "[152781 rows x 11 columns]"
      ]
     },
     "execution_count": 17,
     "metadata": {},
     "output_type": "execute_result"
    }
   ],
   "source": [
    "data"
   ]
  },
  {
   "cell_type": "code",
   "execution_count": 19,
   "id": "4cd50f55-1007-4616-9ab0-b1de2bb66021",
   "metadata": {},
   "outputs": [
    {
     "data": {
      "text/plain": [
       "<DatetimeArray>\n",
       "['2024-03-01 00:00:00', '2024-02-01 00:00:00', '2024-01-01 00:00:00']\n",
       "Length: 3, dtype: datetime64[ns]"
      ]
     },
     "execution_count": 19,
     "metadata": {},
     "output_type": "execute_result"
    }
   ],
   "source": [
    "data['fecha']."
   ]
  },
  {
   "cell_type": "code",
   "execution_count": null,
   "id": "2610a548-4fdc-48a0-a1ac-c11d58e5602a",
   "metadata": {},
   "outputs": [],
   "source": []
  }
 ],
 "metadata": {
  "kernelspec": {
   "display_name": "Python 3 (ipykernel)",
   "language": "python",
   "name": "python3"
  },
  "language_info": {
   "codemirror_mode": {
    "name": "ipython",
    "version": 3
   },
   "file_extension": ".py",
   "mimetype": "text/x-python",
   "name": "python",
   "nbconvert_exporter": "python",
   "pygments_lexer": "ipython3",
   "version": "3.11.7"
  }
 },
 "nbformat": 4,
 "nbformat_minor": 5
}
