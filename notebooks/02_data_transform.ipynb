{
 "cells": [
  {
   "cell_type": "markdown",
   "id": "f79c0bda-1ea5-4c9d-866e-0aba1445b07d",
   "metadata": {},
   "source": [
    "# Transformación de datos\n",
    "\n",
    "## Resumen\n",
    "\n",
    "El código carga y combina varios archivos CSV, luego transforma estos datos en varias tablas pivote basadas en diferentes características de los productos (`producto`, `familia`, `categoria`, `subcategoria`). Después de las transformaciones, los resultados se guardan en nuevos archivos CSV para su posterior análisis o uso."
   ]
  },
  {
   "cell_type": "code",
   "execution_count": 2,
   "id": "c8486951-0321-42b3-8124-8fcc2e16ffe7",
   "metadata": {},
   "outputs": [],
   "source": [
    "# Bibliotecas requeridas\n",
    "import sys\n",
    "sys.path.append('../scr/')\n",
    "\n",
    "import loadAndTransformData as ltd\n",
    "import viewDataFunctions as vdf\n",
    "\n",
    "import pandas as pd\n",
    "import os\n",
    "import random"
   ]
  },
  {
   "cell_type": "code",
   "execution_count": 3,
   "id": "ff8d9d48-f520-44f0-8e35-b2e8c77f6b04",
   "metadata": {},
   "outputs": [],
   "source": [
    "# Carga de datos\n",
    "# data = ltd.cargar_csv('C:/Users/jpmog/Downloads/tu_(1)_2024_08_31.csv')\n",
    "data = ltd.combinar_csv_por_prefijo('../data/raw/', 'Minimarket_Sales_Data')"
   ]
  },
  {
   "cell_type": "code",
   "execution_count": 4,
   "id": "683a010d-5add-43c3-bd3f-81b5510a9cfa",
   "metadata": {},
   "outputs": [
    {
     "data": {
      "text/plain": [
       "(152781, 11)"
      ]
     },
     "execution_count": 4,
     "metadata": {},
     "output_type": "execute_result"
    }
   ],
   "source": [
    "data.shape"
   ]
  },
  {
   "cell_type": "code",
   "execution_count": 5,
   "id": "75d36d6a-954f-49a1-bd8e-20e2e45689c6",
   "metadata": {},
   "outputs": [
    {
     "name": "stdout",
     "output_type": "stream",
     "text": [
      "<class 'pandas.core.frame.DataFrame'>\n",
      "RangeIndex: 152781 entries, 0 to 152780\n",
      "Data columns (total 11 columns):\n",
      " #   Column                Non-Null Count   Dtype  \n",
      "---  ------                --------------   -----  \n",
      " 0   fecha                 152781 non-null  object \n",
      " 1   codigo_factura        152781 non-null  int64  \n",
      " 2   mnt_total_a_pagar     152781 non-null  float64\n",
      " 3   cant_items            152781 non-null  int64  \n",
      " 4   familia               152524 non-null  object \n",
      " 5   categoria             152781 non-null  object \n",
      " 6   subcategoria          152781 non-null  object \n",
      " 7   codigo_producto       152781 non-null  float64\n",
      " 8   cantidad_vendida      152781 non-null  float64\n",
      " 9   venta_bruta_producto  152781 non-null  float64\n",
      " 10  venta_neta_producto   152781 non-null  float64\n",
      "dtypes: float64(5), int64(2), object(4)\n",
      "memory usage: 12.8+ MB\n"
     ]
    }
   ],
   "source": [
    "data.info()"
   ]
  },
  {
   "cell_type": "code",
   "execution_count": 6,
   "id": "02768a49-1910-4228-a363-8abea9b70ba8",
   "metadata": {},
   "outputs": [],
   "source": [
    "# Modificar a tipo object las columnas codigo_factura, codigo_producto\n",
    "data = ltd.convert_columns_to_object(data, ['codigo_factura', 'codigo_producto'])"
   ]
  },
  {
   "cell_type": "code",
   "execution_count": 7,
   "id": "18c569cb-0690-43a7-a192-1ea530f3de7a",
   "metadata": {},
   "outputs": [
    {
     "name": "stdout",
     "output_type": "stream",
     "text": [
      "<class 'pandas.core.frame.DataFrame'>\n",
      "RangeIndex: 152781 entries, 0 to 152780\n",
      "Data columns (total 11 columns):\n",
      " #   Column                Non-Null Count   Dtype  \n",
      "---  ------                --------------   -----  \n",
      " 0   fecha                 152781 non-null  object \n",
      " 1   codigo_factura        152781 non-null  object \n",
      " 2   mnt_total_a_pagar     152781 non-null  float64\n",
      " 3   cant_items            152781 non-null  int64  \n",
      " 4   familia               152524 non-null  object \n",
      " 5   categoria             152781 non-null  object \n",
      " 6   subcategoria          152781 non-null  object \n",
      " 7   codigo_producto       152781 non-null  object \n",
      " 8   cantidad_vendida      152781 non-null  float64\n",
      " 9   venta_bruta_producto  152781 non-null  float64\n",
      " 10  venta_neta_producto   152781 non-null  float64\n",
      "dtypes: float64(4), int64(1), object(6)\n",
      "memory usage: 12.8+ MB\n"
     ]
    }
   ],
   "source": [
    "data.info()"
   ]
  },
  {
   "cell_type": "code",
   "execution_count": 8,
   "id": "9bd8a3da-374a-4142-a4a4-41209c02cdbc",
   "metadata": {},
   "outputs": [],
   "source": [
    "# Modificar a tipo object las columnas codigo_factura, codigo_producto\n",
    "data = ltd.convert_columns_to_category(data, ['codigo_factura', 'codigo_producto', 'familia', 'categoria', 'subcategoria'])\n",
    "data['fecha'] = pd.to_datetime(data['fecha'])"
   ]
  },
  {
   "cell_type": "code",
   "execution_count": 9,
   "id": "7ca569f2-7bcd-4df0-87d3-06da77ee0a6d",
   "metadata": {},
   "outputs": [],
   "source": [
    "# Dividir el dataframe para poder agruparlo\n",
    "\n",
    "# Generar un número aleatorio de 20 dígitos\n",
    "numero_aleatorio = random.randint(10**19, 10**20 - 1)\n",
    "\n",
    "# Guardar el DataFrame como un archivo CSV usando el número aleatorio como nombre\n",
    "nombre_archivo = f\"../data/temp/chunks/{numero_aleatorio}.csv\"\n",
    "#data.to_csv(nombre_archivo, index=False)\n",
    "\n",
    "# Guardar DataFrame por partes en archivos CSV\n",
    "data.to_csv(nombre_archivo, index=False, chunksize=10**6)\n",
    "\n",
    "# Leer y procesar los chunks uno por uno\n",
    "chunks = []\n",
    "for chunk in pd.read_csv(nombre_archivo, chunksize=10**5):\n",
    "    grouped_chunk = chunk.groupby(['fecha', 'codigo_factura', 'codigo_producto', 'familia', 'categoria', 'subcategoria'])['cantidad_vendida'].sum().reset_index()\n",
    "    chunks.append(grouped_chunk)\n",
    "\n",
    "# Combinar los resultados\n",
    "df_agrupado = pd.concat(chunks).groupby(['fecha', 'codigo_factura', 'codigo_producto', 'familia', 'categoria', 'subcategoria'])['cantidad_vendida'].sum().reset_index()\n",
    "\n",
    "# MemoryError: Unable to allocate 8.38 TiB for an array with shape (9212817056256,) and data type int8\n",
    "\n",
    "# data['cantidad_vendida'] = pd.to_numeric(data['cantidad_vendida'], downcast='integer')"
   ]
  },
  {
   "cell_type": "code",
   "execution_count": 10,
   "id": "24f2d4d5-39b3-4581-833a-ff4363b30be1",
   "metadata": {},
   "outputs": [
    {
     "data": {
      "text/html": [
       "<div>\n",
       "<style scoped>\n",
       "    .dataframe tbody tr th:only-of-type {\n",
       "        vertical-align: middle;\n",
       "    }\n",
       "\n",
       "    .dataframe tbody tr th {\n",
       "        vertical-align: top;\n",
       "    }\n",
       "\n",
       "    .dataframe thead th {\n",
       "        text-align: right;\n",
       "    }\n",
       "</style>\n",
       "<table border=\"1\" class=\"dataframe\">\n",
       "  <thead>\n",
       "    <tr style=\"text-align: right;\">\n",
       "      <th></th>\n",
       "      <th>fecha</th>\n",
       "      <th>codigo_factura</th>\n",
       "      <th>codigo_producto</th>\n",
       "      <th>familia</th>\n",
       "      <th>categoria</th>\n",
       "      <th>subcategoria</th>\n",
       "      <th>cantidad_vendida</th>\n",
       "    </tr>\n",
       "  </thead>\n",
       "  <tbody>\n",
       "    <tr>\n",
       "      <th>0</th>\n",
       "      <td>2024-01-01</td>\n",
       "      <td>2324741063</td>\n",
       "      <td>12000043.0</td>\n",
       "      <td>Commodities</td>\n",
       "      <td>Granos</td>\n",
       "      <td>Otros</td>\n",
       "      <td>3.0</td>\n",
       "    </tr>\n",
       "    <tr>\n",
       "      <th>1</th>\n",
       "      <td>2024-01-01</td>\n",
       "      <td>2324741063</td>\n",
       "      <td>12000162.0</td>\n",
       "      <td>Empaques y Bazar</td>\n",
       "      <td>Otros</td>\n",
       "      <td>Empaques</td>\n",
       "      <td>1.0</td>\n",
       "    </tr>\n",
       "    <tr>\n",
       "      <th>2</th>\n",
       "      <td>2024-01-01</td>\n",
       "      <td>2324741641</td>\n",
       "      <td>12000178.0</td>\n",
       "      <td>Aseo</td>\n",
       "      <td>Aseo Hogar</td>\n",
       "      <td>Detergentes</td>\n",
       "      <td>1.0</td>\n",
       "    </tr>\n",
       "    <tr>\n",
       "      <th>3</th>\n",
       "      <td>2024-01-01</td>\n",
       "      <td>2324749607</td>\n",
       "      <td>12000325.0</td>\n",
       "      <td>Bebidas</td>\n",
       "      <td>Lácteos</td>\n",
       "      <td>UHT Personal</td>\n",
       "      <td>1.0</td>\n",
       "    </tr>\n",
       "    <tr>\n",
       "      <th>4</th>\n",
       "      <td>2024-01-01</td>\n",
       "      <td>2324749607</td>\n",
       "      <td>12001261.0</td>\n",
       "      <td>Refrigerados</td>\n",
       "      <td>Lácteos</td>\n",
       "      <td>Combinados</td>\n",
       "      <td>1.0</td>\n",
       "    </tr>\n",
       "    <tr>\n",
       "      <th>...</th>\n",
       "      <td>...</td>\n",
       "      <td>...</td>\n",
       "      <td>...</td>\n",
       "      <td>...</td>\n",
       "      <td>...</td>\n",
       "      <td>...</td>\n",
       "      <td>...</td>\n",
       "    </tr>\n",
       "    <tr>\n",
       "      <th>151882</th>\n",
       "      <td>2024-03-01</td>\n",
       "      <td>2545426767</td>\n",
       "      <td>12000176.0</td>\n",
       "      <td>Aseo</td>\n",
       "      <td>Hogar</td>\n",
       "      <td>Tissue</td>\n",
       "      <td>1.0</td>\n",
       "    </tr>\n",
       "    <tr>\n",
       "      <th>151883</th>\n",
       "      <td>2024-03-01</td>\n",
       "      <td>2545426767</td>\n",
       "      <td>12000376.0</td>\n",
       "      <td>Bebidas</td>\n",
       "      <td>Bebidas Líquidas</td>\n",
       "      <td>Gasificadas</td>\n",
       "      <td>1.0</td>\n",
       "    </tr>\n",
       "    <tr>\n",
       "      <th>151884</th>\n",
       "      <td>2024-03-01</td>\n",
       "      <td>2545426767</td>\n",
       "      <td>12002501.0</td>\n",
       "      <td>Alimentos Dulces</td>\n",
       "      <td>Pasabocas</td>\n",
       "      <td>Frutos Secos</td>\n",
       "      <td>1.0</td>\n",
       "    </tr>\n",
       "    <tr>\n",
       "      <th>151885</th>\n",
       "      <td>2024-03-01</td>\n",
       "      <td>2545461183</td>\n",
       "      <td>12001129.0</td>\n",
       "      <td>Mascotas</td>\n",
       "      <td>Mascotas</td>\n",
       "      <td>Alimento Seco</td>\n",
       "      <td>1.0</td>\n",
       "    </tr>\n",
       "    <tr>\n",
       "      <th>151886</th>\n",
       "      <td>2024-03-01</td>\n",
       "      <td>2545461183</td>\n",
       "      <td>12003278.0</td>\n",
       "      <td>Mascotas</td>\n",
       "      <td>Mascotas</td>\n",
       "      <td>Alimento Humedo</td>\n",
       "      <td>1.0</td>\n",
       "    </tr>\n",
       "  </tbody>\n",
       "</table>\n",
       "<p>151887 rows × 7 columns</p>\n",
       "</div>"
      ],
      "text/plain": [
       "             fecha  codigo_factura  codigo_producto           familia  \\\n",
       "0       2024-01-01      2324741063       12000043.0       Commodities   \n",
       "1       2024-01-01      2324741063       12000162.0  Empaques y Bazar   \n",
       "2       2024-01-01      2324741641       12000178.0              Aseo   \n",
       "3       2024-01-01      2324749607       12000325.0           Bebidas   \n",
       "4       2024-01-01      2324749607       12001261.0      Refrigerados   \n",
       "...            ...             ...              ...               ...   \n",
       "151882  2024-03-01      2545426767       12000176.0              Aseo   \n",
       "151883  2024-03-01      2545426767       12000376.0           Bebidas   \n",
       "151884  2024-03-01      2545426767       12002501.0  Alimentos Dulces   \n",
       "151885  2024-03-01      2545461183       12001129.0          Mascotas   \n",
       "151886  2024-03-01      2545461183       12003278.0          Mascotas   \n",
       "\n",
       "               categoria     subcategoria  cantidad_vendida  \n",
       "0                 Granos            Otros               3.0  \n",
       "1                  Otros         Empaques               1.0  \n",
       "2             Aseo Hogar      Detergentes               1.0  \n",
       "3                Lácteos     UHT Personal               1.0  \n",
       "4                Lácteos       Combinados               1.0  \n",
       "...                  ...              ...               ...  \n",
       "151882             Hogar           Tissue               1.0  \n",
       "151883  Bebidas Líquidas      Gasificadas               1.0  \n",
       "151884         Pasabocas     Frutos Secos               1.0  \n",
       "151885          Mascotas    Alimento Seco               1.0  \n",
       "151886          Mascotas  Alimento Humedo               1.0  \n",
       "\n",
       "[151887 rows x 7 columns]"
      ]
     },
     "execution_count": 10,
     "metadata": {},
     "output_type": "execute_result"
    }
   ],
   "source": [
    "df_agrupado"
   ]
  },
  {
   "cell_type": "code",
   "execution_count": 11,
   "id": "ecb02628-63cd-4577-8d47-9e2c1d755f1f",
   "metadata": {},
   "outputs": [
    {
     "name": "stdout",
     "output_type": "stream",
     "text": [
      "(151887, 7)\n"
     ]
    }
   ],
   "source": [
    "data_filtrada = df_agrupado[df_agrupado['cantidad_vendida'] != 0]\n",
    "print(data_filtrada.shape)"
   ]
  },
  {
   "cell_type": "code",
   "execution_count": 12,
   "id": "92bcbd0b-b93c-495f-b026-951f2ae37524",
   "metadata": {},
   "outputs": [],
   "source": [
    "model_data_producto = ltd.pivotear_df(data_filtrada, 'codigo_factura', 'codigo_producto')\n",
    "model_data_familia = ltd.pivotear_df(data_filtrada, 'codigo_factura', 'familia')\n",
    "model_data_categoria = ltd.pivotear_df(data_filtrada, 'codigo_factura', 'categoria')\n",
    "model_data_subcategoria = ltd.pivotear_df(data_filtrada, 'codigo_factura', 'subcategoria')"
   ]
  },
  {
   "cell_type": "code",
   "execution_count": 13,
   "id": "2610a548-4fdc-48a0-a1ac-c11d58e5602a",
   "metadata": {},
   "outputs": [
    {
     "name": "stdout",
     "output_type": "stream",
     "text": [
      "Archivo guardado exitosamente en: ../data/processed/Minimarket_Sales_Data_Transform_By_Product.csv\n",
      "Archivo guardado exitosamente en: ../data/processed/Minimarket_Sales_Data_Transform_By_Family.csv\n",
      "Archivo guardado exitosamente en: ../data/processed/Minimarket_Sales_Data_Transform_By_Category.csv\n",
      "Archivo guardado exitosamente en: ../data/processed/Minimarket_Sales_Data_Transform_By_Subcategory.csv\n"
     ]
    }
   ],
   "source": [
    "ltd.guardar_csv(model_data_producto, '../data/processed/', 'Minimarket_Sales_Data_Transform_By_Product')\n",
    "ltd.guardar_csv(model_data_familia, '../data/processed/', 'Minimarket_Sales_Data_Transform_By_Family')\n",
    "ltd.guardar_csv(model_data_categoria, '../data/processed/', 'Minimarket_Sales_Data_Transform_By_Category')\n",
    "ltd.guardar_csv(model_data_subcategoria, '../data/processed/', 'Minimarket_Sales_Data_Transform_By_Subcategory')"
   ]
  },
  {
   "cell_type": "markdown",
   "id": "2b9d54ff-6436-44a8-bdb5-a2578c84ddfe",
   "metadata": {},
   "source": [
    "## Descripción del procedimiento\n",
    "\n",
    "Este código realiza varias operaciones de transformación y procesamiento de datos en un conjunto de archivos CSV que contienen información de ventas de un minimercado. A continuación se describe el código paso a paso:\n",
    "\n",
    "### Importación de Bibliotecas y Módulos\n",
    "1. **`sys.path.append('../scr/')`**: Agrega un directorio específico (`'../scr/'`) al `sys.path`, lo que permite importar módulos desde esa ruta.\n",
    "2. **`import loadAndTransformData as ltd`**: Importa un módulo personalizado `loadAndTransformData` con el alias `ltd`, que probablemente contiene funciones para cargar y transformar datos.\n",
    "3. **`import viewDataFunctions as vdf`**: Importa otro módulo personalizado `viewDataFunctions` con el alias `vdf`, que posiblemente incluye funciones para visualizar datos.\n",
    "4. **`import pandas as pd` y `import os`**: Importa las bibliotecas estándar `pandas` para la manipulación de datos y `os` para operaciones relacionadas con el sistema de archivos.\n",
    "\n",
    "### Carga de Datos\n",
    "5. **`data = ltd.combinar_csv_por_prefijo('../data/raw/', 'Minimarket_Sales_Data')`**: Utiliza una función del módulo `ltd` para combinar múltiples archivos CSV que comparten un prefijo común (`'Minimarket_Sales_Data'`) desde el directorio `'../data/raw/'`. Esto produce un DataFrame llamado `data`.\n",
    "\n",
    "6. **`data.shape` y `data.info()`**: Imprime las dimensiones del DataFrame (`data.shape`) y muestra un resumen del contenido del DataFrame (`data.info()`), incluyendo el tipo de datos y la cantidad de valores no nulos en cada columna.\n",
    "\n",
    "### Transformación de Datos\n",
    "7. **`model_data_producto = ltd.pivotear_df(data, 'codigo_factura', 'codigo_producto')`**: Crea una tabla pivote del DataFrame `data`, donde las filas están indexadas por `'codigo_factura'` y las columnas por `'codigo_producto'`. El resultado se guarda en `model_data_producto`.\n",
    "\n",
    "8. **`model_data_familia = ltd.pivotear_df(data, 'codigo_factura', 'familia')`**: Similar al paso anterior, pero pivoteando por la columna `'familia'`, guardando el resultado en `model_data_familia`.\n",
    "\n",
    "9. **`model_data_categoria = ltd.pivotear_df(data, 'codigo_factura', 'categoria')`**: Crea una tabla pivote basada en la columna `'categoria'` y la guarda en `model_data_categoria`.\n",
    "\n",
    "10. **`model_data_subcategoria = ltd.pivotear_df(data, 'codigo_factura', 'subcategoria')`**: Crea otra tabla pivote, esta vez basada en `'subcategoria'`, guardando el resultado en `model_data_subcategoria`.\n",
    "\n",
    "11. **`print(model_data_producto.shape, model_data_familia.shape, model_data_categoria.shape, model_data_subcategoria.shape)`**: Imprime las dimensiones de los cuatro DataFrames resultantes de las operaciones de pivoteo.\n",
    "\n",
    "### Guardado de Datos Transformados\n",
    "12. **`ltd.guardar_csv(model_data_producto, '../data/processed/', 'Minimarket_Sales_Data_Transform_By_Product')`**: Guarda el DataFrame `model_data_producto` como un archivo CSV en el directorio `'../data/processed/'` con el nombre `'Minimarket_Sales_Data_Transform_By_Product'`.\n",
    "\n",
    "13. **`ltd.guardar_csv(model_data_familia, '../data/processed/', 'Minimarket_Sales_Data_Transform_By_Family')`**: Similar al paso anterior, pero guardando `model_data_familia` con un nombre de archivo diferente.\n",
    "\n",
    "14. **`ltd.guardar_csv(model_data_categoria, '../data/processed/', 'Minimarket_Sales_Data_Transform_By_Category')`**: Guarda `model_data_categoria` en un archivo CSV.\n",
    "\n",
    "15. **`ltd.guardar_csv(model_data_subcategoria, '../data/processed/', 'Minimarket_Sales_Data_Transform_By_Subcategory')`**: Finalmente, guarda `model_data_subcategoria` como un archivo CSV."
   ]
  },
  {
   "cell_type": "code",
   "execution_count": null,
   "id": "bc60f79a-5aa4-4cef-8c71-fe5d6818538c",
   "metadata": {},
   "outputs": [],
   "source": []
  }
 ],
 "metadata": {
  "kernelspec": {
   "display_name": "Python 3 (ipykernel)",
   "language": "python",
   "name": "python3"
  },
  "language_info": {
   "codemirror_mode": {
    "name": "ipython",
    "version": 3
   },
   "file_extension": ".py",
   "mimetype": "text/x-python",
   "name": "python",
   "nbconvert_exporter": "python",
   "pygments_lexer": "ipython3",
   "version": "3.11.7"
  }
 },
 "nbformat": 4,
 "nbformat_minor": 5
}
