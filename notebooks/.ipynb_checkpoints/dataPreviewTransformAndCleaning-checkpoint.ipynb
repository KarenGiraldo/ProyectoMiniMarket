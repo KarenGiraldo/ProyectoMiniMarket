{
 "cells": [
  {
   "cell_type": "markdown",
   "id": "f79c0bda-1ea5-4c9d-866e-0aba1445b07d",
   "metadata": {},
   "source": [
    "# Exploración preliminar y transformación de datos"
   ]
  },
  {
   "cell_type": "code",
   "execution_count": 1,
   "id": "c8486951-0321-42b3-8124-8fcc2e16ffe7",
   "metadata": {},
   "outputs": [],
   "source": [
    "# Bibliotecas requeridas\n",
    "import sys\n",
    "sys.path.append('../scr/')\n",
    "\n",
    "import loadAndTransformData as ltd\n",
    "import viewDataFunctions as vdf\n",
    "\n",
    "\n",
    "import pandas as pd\n",
    "import os\n"
   ]
  },
  {
   "cell_type": "code",
   "execution_count": 2,
   "id": "ff8d9d48-f520-44f0-8e35-b2e8c77f6b04",
   "metadata": {},
   "outputs": [
    {
     "name": "stdout",
     "output_type": "stream",
     "text": [
      "Archivo cargado correctamente.\n"
     ]
    }
   ],
   "source": [
    "# Carga de datos\n",
    "data = ltd.cargar_csv('C:/Users/jpmog/Downloads/tu_(1)_2024_08_30.csv')"
   ]
  },
  {
   "cell_type": "code",
   "execution_count": 3,
   "id": "683a010d-5add-43c3-bd3f-81b5510a9cfa",
   "metadata": {},
   "outputs": [
    {
     "data": {
      "text/plain": [
       "(1081702, 11)"
      ]
     },
     "execution_count": 3,
     "metadata": {},
     "output_type": "execute_result"
    }
   ],
   "source": [
    "data.shape"
   ]
  },
  {
   "cell_type": "code",
   "execution_count": 5,
   "id": "75d36d6a-954f-49a1-bd8e-20e2e45689c6",
   "metadata": {},
   "outputs": [
    {
     "name": "stdout",
     "output_type": "stream",
     "text": [
      "<class 'pandas.core.frame.DataFrame'>\n",
      "RangeIndex: 1081702 entries, 0 to 1081701\n",
      "Data columns (total 11 columns):\n",
      " #   Column                Non-Null Count    Dtype  \n",
      "---  ------                --------------    -----  \n",
      " 0   fecha                 1081702 non-null  object \n",
      " 1   codigo_factura        1081702 non-null  int64  \n",
      " 2   mnt_total_a_pagar     1081702 non-null  float64\n",
      " 3   cant_items            1081702 non-null  int64  \n",
      " 4   familia               1078892 non-null  object \n",
      " 5   categoria             1081699 non-null  object \n",
      " 6   subcategoria          1081699 non-null  object \n",
      " 7   codigo_producto       1081699 non-null  float64\n",
      " 8   cantidad_vendida      1081700 non-null  float64\n",
      " 9   venta_bruta_producto  1081700 non-null  float64\n",
      " 10  venta_neta_producto   1081699 non-null  float64\n",
      "dtypes: float64(5), int64(2), object(4)\n",
      "memory usage: 90.8+ MB\n"
     ]
    }
   ],
   "source": [
    "data.info()"
   ]
  },
  {
   "cell_type": "code",
   "execution_count": 6,
   "id": "f9e47d7f-a173-4d97-b92a-962da1d2b5ad",
   "metadata": {},
   "outputs": [],
   "source": [
    "#ltd.dividir_y_guardar_csv(data, 'fecha', 'mes', '../data/raw/', 'Minimarket_Sales_Data')"
   ]
  },
  {
   "cell_type": "code",
   "execution_count": 7,
   "id": "7c145b1a-2646-4cbb-86bd-b45a85052126",
   "metadata": {},
   "outputs": [],
   "source": [
    "# Cargar datos disponibles en el directorio de datos del proyecto\n",
    "data2 = ltd.combinar_csv_por_prefijo('../data/raw/', 'Minimarket_Sales_Data')"
   ]
  },
  {
   "cell_type": "code",
   "execution_count": 12,
   "id": "dfe7e3f2-fe17-4ab7-8233-a84c00d2e4ba",
   "metadata": {},
   "outputs": [
    {
     "data": {
      "text/plain": [
       "(1081702, 11)"
      ]
     },
     "execution_count": 12,
     "metadata": {},
     "output_type": "execute_result"
    }
   ],
   "source": [
    "data2.shape\n"
   ]
  },
  {
   "cell_type": "code",
   "execution_count": null,
   "id": "92bcbd0b-b93c-495f-b026-951f2ae37524",
   "metadata": {},
   "outputs": [],
   "source": [
    "model_data_producto = ltd.pivotear_df(data2, 'codigo_factura', 'codigo_producto')\n",
    "model_data_familia = ltd.pivotear_df(data2, 'codigo_factura', 'familia')\n",
    "model_data_categoria = ltd.pivotear_df(data2, 'codigo_factura', 'categoria')\n",
    "model_data_subcategoria = ltd.pivotear_df(data2, 'codigo_factura', 'subcategoria')"
   ]
  },
  {
   "cell_type": "code",
   "execution_count": null,
   "id": "6a603b5c-e1f6-4023-b0b6-2f3c5dcc8d51",
   "metadata": {},
   "outputs": [],
   "source": [
    "print(model_data_producto.shape, model_data_familia.shape, model_data_categoria.shape, model_data_subcategoria.shape)"
   ]
  },
  {
   "cell_type": "code",
   "execution_count": null,
   "id": "2ffdb474-bec2-4f51-bfe8-5e3985af2453",
   "metadata": {},
   "outputs": [],
   "source": [
    "guardar_csv(model_data_producto, '../data/raw/', 'Minimarket_Sales_Data_Transform_By_Product')\n",
    "guardar_csv(model_data_familia, '../data/raw/', 'Minimarket_Sales_Data_Transform_By_Family')\n",
    "guardar_csv(model_data_categoria, '../data/raw/', 'Minimarket_Sales_Data_Transform_By_Category')\n",
    "guardar_csv(model_data_subcategoria, '../data/raw/', 'Minimarket_Sales_Data_Transform_By_Subcategory')"
   ]
  },
  {
   "cell_type": "code",
   "execution_count": null,
   "id": "37e40b2f-b7a6-4f22-b030-c2cf9c1a285c",
   "metadata": {},
   "outputs": [],
   "source": [
    "df_pivot = pd.crosstab(data2['codigo_factura'], data2['codigo_producto'])"
   ]
  },
  {
   "cell_type": "code",
   "execution_count": null,
   "id": "de7c522c-1160-46ed-8815-c57f94ece758",
   "metadata": {},
   "outputs": [],
   "source": [
    "df_pivot"
   ]
  },
  {
   "cell_type": "code",
   "execution_count": null,
   "id": "77df493f-0510-4a63-803a-028c86168024",
   "metadata": {},
   "outputs": [],
   "source": []
  }
 ],
 "metadata": {
  "kernelspec": {
   "display_name": "Python 3 (ipykernel)",
   "language": "python",
   "name": "python3"
  },
  "language_info": {
   "codemirror_mode": {
    "name": "ipython",
    "version": 3
   },
   "file_extension": ".py",
   "mimetype": "text/x-python",
   "name": "python",
   "nbconvert_exporter": "python",
   "pygments_lexer": "ipython3",
   "version": "3.11.7"
  }
 },
 "nbformat": 4,
 "nbformat_minor": 5
}
